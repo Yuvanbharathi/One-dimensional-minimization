{
  "nbformat": 4,
  "nbformat_minor": 0,
  "metadata": {
    "colab": {
      "name": "one_dimensional_minimization.ipynb",
      "provenance": [],
      "collapsed_sections": []
    },
    "kernelspec": {
      "name": "python3",
      "display_name": "Python 3"
    },
    "language_info": {
      "name": "python"
    }
  },
  "cells": [
    {
      "cell_type": "markdown",
      "metadata": {
        "id": "HESuKHkhgFB5"
      },
      "source": [
        "First Name:Yuvan Bharathi\n",
        "\n",
        "Last Name: Kokhila Shanmugam\n",
        "\n",
        "K letter - function =  f(x)=1x+ex accuracy = 0.005"
      ]
    },
    {
      "cell_type": "code",
      "metadata": {
        "id": "7gnXlwMiOeLM"
      },
      "source": [
        "import scipy.optimize as spo\n",
        "import numpy as np\n",
        "from matplotlib import pyplot as plt\n",
        "from matplotlib.pyplot import figure"
      ],
      "execution_count": null,
      "outputs": []
    },
    {
      "cell_type": "markdown",
      "metadata": {
        "id": "uw3ConvnTTAn"
      },
      "source": [
        "Function is Unimodal or Not?"
      ]
    },
    {
      "cell_type": "code",
      "metadata": {
        "id": "JykqqhIpOpKn"
      },
      "source": [
        "def f(x):\n",
        "  fx=np.reciprocal(x) + np.exp(x)\n",
        "  return fx"
      ],
      "execution_count": null,
      "outputs": []
    },
    {
      "cell_type": "code",
      "metadata": {
        "colab": {
          "base_uri": "https://localhost:8080/"
        },
        "id": "nuqHxQkLO6Sm",
        "outputId": "b4adf161-87d0-480a-a668-317e4b0513f0"
      },
      "source": [
        "x_start=0.5\n",
        "result= spo.minimize(f,x_start)\n",
        "print(f\"x= {result.x} and y={result.fun}\")\n",
        "x_min=result.x\n",
        "fx_min=result.fun"
      ],
      "execution_count": null,
      "outputs": [
        {
          "output_type": "stream",
          "name": "stdout",
          "text": [
            "x= [0.70346746] and y=3.4422772944949793\n"
          ]
        }
      ]
    },
    {
      "cell_type": "code",
      "metadata": {
        "id": "J0hBQJehPraP"
      },
      "source": [
        "a1=0.5\n",
        "a2=1\n",
        "x = np.arange(a1, a2, 0.005)\n",
        "fx=[]"
      ],
      "execution_count": null,
      "outputs": []
    },
    {
      "cell_type": "code",
      "metadata": {
        "id": "ntvB4buUP16t",
        "colab": {
          "base_uri": "https://localhost:8080/",
          "height": 171
        },
        "outputId": "0ac46f53-679f-4973-948b-f0340095ef6f"
      },
      "source": [
        "for i in x:\n",
        "  fx.append(f(i))\n",
        "figure(figsize=(2,2),dpi=80)\n",
        "plt.plot(x,fx)\n",
        "plt.plot(x_min, fx_min, '-x',color='red');"
      ],
      "execution_count": null,
      "outputs": [
        {
          "output_type": "display_data",
          "data": {
            "image/png": "[encoded data removed]",
            "text/plain": [
              "<Figure size 160x160 with 1 Axes>"
            ]
          },
          "metadata": {
            "needs_background": "light"
          }
        }
      ]
    },
    {
      "cell_type": "markdown",
      "metadata": {
        "id": "Pqb5QjnjTePR"
      },
      "source": [
        "Thus, the function is Unimodal"
      ]
    },
    {
      "cell_type": "markdown",
      "metadata": {
        "id": "en1Bc66xTiqF"
      },
      "source": [
        "1) Uniform Section Method"
      ]
    },
    {
      "cell_type": "markdown",
      "metadata": {
        "id": "35JUpnf3gD0a"
      },
      "source": [
        ""
      ]
    },
    {
      "cell_type": "markdown",
      "metadata": {
        "id": "9oabhk6CTmhN"
      },
      "source": [
        "Algorithm:\n",
        "\n",
        "  1) Set upper and lower limts\n",
        "\n",
        "  2) Set accuracy and no. of divisions\n",
        "\n",
        "  3) Define x, fx and no. of iterations\n",
        "  \n",
        "  4) Find the x_min and fx_min\n",
        "\n",
        "  5) Plot the graph for different values of divisions and obtain the results"
      ]
    },
    {
      "cell_type": "code",
      "metadata": {
        "id": "aR7xI8GRS47s"
      },
      "source": [
        "def uniform(h):\n",
        "  a=0.5\n",
        "  b=1\n",
        "  iter = 0\n",
        "  xl = []\n",
        "  while (abs(a-b)> 0.005):\n",
        "    yl = []\n",
        "    xl= np.arange(a, b, (abs(a-b) /h))\n",
        "    iter += 1\n",
        "    for num in xl:\n",
        "      yl.append(f(num))\n",
        "    yl_min = np.amin(yl)\n",
        "    xl_min = xl[np.argmin(yl)]\n",
        "    print('i=',iter,'x=',xl_min,'y=',yl_min)  \n",
        "    if (np.argmin(yl) - 1 > 0):\n",
        "      a = xl[np.argmin(yl) - 1]\n",
        "    if (np.argmin(yl) + 1 < len(xl) - 1):\n",
        "      b = xl[np.argmin(yl) + 1] \n",
        "  return i, xl_min, yl_min"
      ],
      "execution_count": null,
      "outputs": []
    },
    {
      "cell_type": "code",
      "metadata": {
        "colab": {
          "base_uri": "https://localhost:8080/"
        },
        "id": "VhQWqJIECuf6",
        "outputId": "9e652565-2c40-4f61-e6fc-0e9ca3a63ecf"
      },
      "source": [
        "i5,x5,y5=uniform(5)"
      ],
      "execution_count": null,
      "outputs": [
        {
          "output_type": "stream",
          "name": "stdout",
          "text": [
            "i= 1 x= 0.7 y= 3.442324136041905\n",
            "i= 2 x= 0.7200000000000001 y= 3.443322099532777\n",
            "i= 3 x= 0.7040000000000001 y= 3.4422783952780898\n",
            "i= 4 x= 0.6992000000000002 y= 3.4423482991903116\n",
            "i= 5 x= 0.7049600000000004 y= 3.4422859324016506\n",
            "i= 6 x= 0.7041920000000003 y= 3.4422793316565206\n"
          ]
        }
      ]
    },
    {
      "cell_type": "code",
      "metadata": {
        "colab": {
          "base_uri": "https://localhost:8080/"
        },
        "id": "auYxsKky2nAK",
        "outputId": "4bfc79f3-68f0-4818-b837-6affe4bc36f7"
      },
      "source": [
        "i10,x10,y10=uniform(10)"
      ],
      "execution_count": null,
      "outputs": [
        {
          "output_type": "stream",
          "name": "stdout",
          "text": [
            "i= 1 x= 0.7000000000000002 y= 3.442324136041905\n",
            "i= 2 x= 0.7000000000000002 y= 3.442324136041905\n",
            "i= 3 x= 0.7040000000000002 y= 3.44227839527809\n"
          ]
        }
      ]
    },
    {
      "cell_type": "code",
      "metadata": {
        "colab": {
          "base_uri": "https://localhost:8080/"
        },
        "id": "AQuUePVc3ZmK",
        "outputId": "73721778-1eee-45ae-d84a-6722df5e2b31"
      },
      "source": [
        "i25,x25,y25=uniform(25)"
      ],
      "execution_count": null,
      "outputs": [
        {
          "output_type": "stream",
          "name": "stdout",
          "text": [
            "i= 1 x= 0.7000000000000002 y= 3.442324136041905\n",
            "i= 2 x= 0.7040000000000008 y= 3.4422783952780898\n"
          ]
        }
      ]
    },
    {
      "cell_type": "code",
      "metadata": {
        "colab": {
          "base_uri": "https://localhost:8080/",
          "height": 369
        },
        "id": "D-_2Gjuu3hX6",
        "outputId": "3e4be284-d57b-4d00-cccd-eb4ddbe6ff1d"
      },
      "source": [
        "figure(figsize=(5,5),dpi=80)\n",
        "plt.plot(x5, y5,'*',label='5_Iteration')\n",
        "plt.plot(x10, y10,'-x',label='10_Iteration')\n",
        "plt.plot(x25, y25,'*',label='25_Iteration')\n",
        "plt.title('With different value of h');\n",
        "plt.legend();"
      ],
      "execution_count": null,
      "outputs": [
        {
          "output_type": "display_data",
          "data": {
            "image/png": "[encoded data removed]",
            "text/plain": [
              "<Figure size 400x400 with 1 Axes>"
            ]
          },
          "metadata": {
            "needs_background": "light"
          }
        }
      ]
    },
    {
      "cell_type": "markdown",
      "metadata": {
        "id": "vNxPsUACP3W6"
      },
      "source": [
        "Dichotomy"
      ]
    },
    {
      "cell_type": "markdown",
      "metadata": {
        "id": "2VYbCCiwVHDM"
      },
      "source": [
        "Algorithm:\n",
        "\n",
        "1) Set upper and lower limts\n",
        "\n",
        "2) Set the accuracy value\n",
        "\n",
        "3) Iterate the value of l and r untill it attains the accuracy\n",
        "\n",
        "4) Calculate the number of iterations and also set l and r as minimum points"
      ]
    },
    {
      "cell_type": "code",
      "metadata": {
        "id": "L7dO7c8Msvxg"
      },
      "source": [
        "\n",
        "def dichotomy(acc):\n",
        "  m = 0.5\n",
        "  n = 1\n",
        "  i_d=0\n",
        "  while (np.round(n - m, 4) > acc):\n",
        "    i_d=i_d+1\n",
        "    print(i_d,m,n)\n",
        "    \n",
        "    avg = (m+n)/2\n",
        "    l = avg - acc / 2\n",
        "    r = avg + acc / 2\n",
        "    if f(l) > f(r):\n",
        "      m = l\n",
        "    else:\n",
        "      n =r\n",
        "  print('Total Number of iterations:' , i_d)\n"
      ],
      "execution_count": null,
      "outputs": []
    },
    {
      "cell_type": "code",
      "metadata": {
        "colab": {
          "base_uri": "https://localhost:8080/"
        },
        "id": "Yw4vGQHUtqV-",
        "outputId": "d02f558b-2dbb-46be-f627-dcc0d9e5b61e"
      },
      "source": [
        "dichotomy(0.001)\n",
        "\n"
      ],
      "execution_count": null,
      "outputs": [
        {
          "output_type": "stream",
          "name": "stdout",
          "text": [
            "1 0.5 1\n",
            "2 0.5 0.7505\n",
            "3 0.62475 0.7505\n",
            "4 0.687125 0.7505\n",
            "5 0.687125 0.7193124999999999\n",
            "6 0.7027187500000001 0.7193124999999999\n",
            "7 0.7027187500000001 0.7115156249999999\n",
            "8 0.7027187500000001 0.7076171874999999\n",
            "9 0.7027187500000001 0.7056679687499999\n",
            "10 0.7027187500000001 0.704693359375\n",
            "11 0.7027187500000001 0.7042060546875\n",
            "12 0.7029624023437501 0.7042060546875\n",
            "13 0.7029624023437501 0.704084228515625\n",
            "14 0.7029624023437501 0.7040233154296875\n",
            "Total Number of iterations: 14\n"
          ]
        }
      ]
    },
    {
      "cell_type": "code",
      "metadata": {
        "id": "BHY4rj90f4YN"
      },
      "source": [
        "i_d=14"
      ],
      "execution_count": null,
      "outputs": []
    },
    {
      "cell_type": "markdown",
      "metadata": {
        "id": "AQdZ2pSFqqrb"
      },
      "source": [
        "Golden Section Method:"
      ]
    },
    {
      "cell_type": "markdown",
      "metadata": {
        "id": "50VDJHnlaEe7"
      },
      "source": [
        "Algorithm:\n",
        "\n",
        "1) Set the upper and lower limts.\n",
        "\n",
        "2) Assign the Golden section ratio and accuracy.\n",
        "\n",
        "3) Take number of iterations.\n",
        "\n",
        "4) Assign c and d with the limits and reduce the limits in every iterations.\n",
        "\n",
        "5)Shorten the length between the limits untill it reaches less than the accuracy level.\n",
        "\n",
        "6) Once they reachthe accuracy level, Stop the process and take the mean of m and n and assign them as the minimum value of x aswell as , find function of x(f(x)) and that is the minimum vale of f(x)"
      ]
    },
    {
      "cell_type": "code",
      "metadata": {
        "colab": {
          "base_uri": "https://localhost:8080/"
        },
        "id": "VulBjS9mnJCo",
        "outputId": "1a18f7cd-22e6-4c0a-d961-d17da3fc32ba"
      },
      "source": [
        "m=0.5\n",
        "n=1\n",
        "acc=0.001\n",
        "g=0.618\n",
        "c=n-g*(abs(m-n))\n",
        "d=m+g*(abs(m-n))\n",
        "i_g=0\n",
        "fc=f(c)\n",
        "fd=f(d)\n",
        "while True:\n",
        "  i_g=i_g+1\n",
        "  if (abs(m-n)<acc):\n",
        "    x=(m+n)/2\n",
        "    break\n",
        "  if(fc<fd):\n",
        "    m=m\n",
        "    n=d\n",
        "    d=c\n",
        "    fd=fc\n",
        "    c=n-g*(n-m)\n",
        "    fc=f(c)\n",
        "  else:\n",
        "    n=n\n",
        "    m=c\n",
        "    c=d\n",
        "    fc=fd\n",
        "    d=m+g*(n-m)\n",
        "    fd=f(d)\n",
        "    yd=f(x)\n",
        "print('i=',i_g,'x=',x,yd)"
      ],
      "execution_count": null,
      "outputs": [
        {
          "output_type": "stream",
          "name": "stdout",
          "text": [
            "i= 14 x= 0.7036585387863934 3.442277436294412\n"
          ]
        }
      ]
    },
    {
      "cell_type": "code",
      "metadata": {
        "colab": {
          "base_uri": "https://localhost:8080/",
          "height": 243
        },
        "id": "Czpu-MqvOgWr",
        "outputId": "df9c5ce5-3928-4ed4-8ce4-fc00e9886e85"
      },
      "source": [
        "figure(figsize=(5,3),dpi=80)\n",
        "plt.plot(x_min, fx_min, '-o', label='Uniform search Method')\n",
        "plt.plot(x, yd, 'x', label='Golden section Method')\n",
        "plt.plot(m,yd, '*', label='Dichotomy')\n",
        "plt.legend();"
      ],
      "execution_count": null,
      "outputs": [
        {
          "output_type": "display_data",
          "data": {
            "image/png": "[encoded data removed]",
            "text/plain": [
              "<Figure size 400x240 with 1 Axes>"
            ]
          },
          "metadata": {
            "needs_background": "light"
          }
        }
      ]
    },
    {
      "cell_type": "code",
      "metadata": {
        "colab": {
          "base_uri": "https://localhost:8080/"
        },
        "id": "7GyYM1SSK3kO",
        "outputId": "531b24f9-b6f4-4847-b702-3e0325ed38d6"
      },
      "source": [
        "print(\"Unifrom Section Method no. of iterations:\",iter)\n",
        "print(\"Dichotomy Method no. of iterations:\",i_d)\n",
        "print(\"Golden Section Method no. of iterations:\",i_g)"
      ],
      "execution_count": null,
      "outputs": [
        {
          "output_type": "stream",
          "name": "stdout",
          "text": [
            "Unifrom Section Method no. of iterations: <built-in function iter>\n",
            "Dichotomy Method no. of iterations: 14\n",
            "Golden Section Method no. of iterations: 14\n"
          ]
        }
      ]
    },
    {
      "cell_type": "code",
      "metadata": {
        "id": "4wK_IIhJemdS"
      },
      "source": [
        ""
      ],
      "execution_count": null,
      "outputs": []
    }
  ]
}